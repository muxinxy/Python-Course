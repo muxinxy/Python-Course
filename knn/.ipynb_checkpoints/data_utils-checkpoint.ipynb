{
 "cells": [
  {
   "cell_type": "code",
   "execution_count": null,
   "metadata": {},
   "outputs": [],
   "source": [
    "import pickle\n",
    "import numpy as np \n",
    "import os \n",
    " \n",
    "def load_cifar_batch(filename): \n",
    "    with open(filename,'rb') as f : \n",
    "        datadict=pickle.load(f,encoding='bytes') \n",
    "        x=datadict[b'data'] \n",
    "        y=datadict[b'labels'] \n",
    "        x=x.reshape(10000,3,32,32).transpose(0,2,3,1).astype('float') \n",
    "        y=np.array(y) \n",
    "        #以数组形式输出\n",
    "        return x,y \n",
    "#root 为cifar文件根目录\n",
    "def load_cifar10(root_path): \n",
    "    xs=[] \n",
    "    ys=[] \n",
    "    # 训练集1-5\n",
    "    for b in range(1,2): #这里只选10000张作为训练集\n",
    "        # 读取训练集图片\n",
    "        f=os.path.join(root_path,'data_batch_%d' % (b,)) \n",
    "        #每批读取\n",
    "        x,y=load_cifar_batch(f) \n",
    "        #累加 x y 将5批数据合并\n",
    "        xs.append(x) \n",
    "        ys.append(y) \n",
    "        #数组拼接\n",
    "        Xtrain=np.concatenate(xs) \n",
    "        Ytrain=np.concatenate(ys) \n",
    "    del x ,y \n",
    "    # 读取测试集图片\n",
    "    Xtest,Ytest=load_cifar_batch(os.path.join(root_path,'test_batch'))   \n",
    "    return Xtrain,Ytrain,Xtest,Ytest"
   ]
  }
 ],
 "metadata": {
  "kernelspec": {
   "display_name": "Python 3",
   "language": "python",
   "name": "python3"
  },
  "language_info": {
   "codemirror_mode": {
    "name": "ipython",
    "version": 3
   },
   "file_extension": ".py",
   "mimetype": "text/x-python",
   "name": "python",
   "nbconvert_exporter": "python",
   "pygments_lexer": "ipython3",
   "version": "3.7.6"
  }
 },
 "nbformat": 4,
 "nbformat_minor": 4
}
